{
  "nbformat": 4,
  "nbformat_minor": 0,
  "metadata": {
    "colab": {
      "provenance": [],
      "authorship_tag": "ABX9TyP26GGerVaXn4X+3ZwZydko",
      "include_colab_link": true
    },
    "kernelspec": {
      "name": "python3",
      "display_name": "Python 3"
    },
    "language_info": {
      "name": "python"
    }
  },
  "cells": [
    {
      "cell_type": "markdown",
      "metadata": {
        "id": "view-in-github",
        "colab_type": "text"
      },
      "source": [
        "<a href=\"https://colab.research.google.com/github/frankfaisca/machine-learning/blob/main/ex3_balanceData.ipynb\" target=\"_parent\"><img src=\"https://colab.research.google.com/assets/colab-badge.svg\" alt=\"Open In Colab\"/></a>"
      ]
    },
    {
      "cell_type": "code",
      "execution_count": 181,
      "metadata": {
        "id": "eWBuOnhPHt0x"
      },
      "outputs": [],
      "source": [
        "# Load libs\n",
        "\n",
        "import numpy as np\n",
        "import pickle\n",
        "import pandas as pd\n",
        "from sklearn import preprocessing\n",
        "from sklearn import utils\n",
        "\n",
        "from sklearn.utils import resample\n",
        "\n",
        "\n",
        "#Graphs\n",
        "import matplotlib.pyplot as plt #visualization\n",
        "from matplotlib import pyplot #visualization\n",
        "%matplotlib inline\n",
        "#static images of your plot embedded in the workbook\n",
        "\n",
        "from sklearn.ensemble import GradientBoostingRegressor\n",
        "\n",
        "#Evaluation\n",
        "from sklearn.metrics import accuracy_score\n",
        "from sklearn.metrics import r2_score\n",
        "from sklearn.metrics import mean_squared_error\n",
        "\n",
        "\n",
        "import warnings\n",
        "warnings.filterwarnings(\"ignore\")\n",
        "\n",
        "from imblearn.over_sampling import RandomOverSampler\n",
        "from imblearn.under_sampling import RandomUnderSampler\n"
      ]
    },
    {
      "cell_type": "code",
      "source": [
        "# Load pickle file into train and test samples\n",
        "\n",
        "outfilename = \"/content/sample_data/A602.pickle\"\n",
        "file = open(outfilename , 'rb')\n",
        "(X_train , y_train , X_val , y_val , X_test , y_test) = pickle.load(file)\n",
        "print(f\"Shapes: \", X_train.shape , X_val.shape , X_test.shape)\n",
        "\n",
        "X_train = pd.DataFrame(X_train)\n",
        "y_train = pd.DataFrame(y_train)\n",
        "X_val = pd.DataFrame(X_val)\n",
        "y_val = pd.DataFrame(y_val)\n",
        "X_test = pd.DataFrame(X_test)\n",
        "y_test = pd.DataFrame(y_test)\n"
      ],
      "metadata": {
        "colab": {
          "base_uri": "https://localhost:8080/"
        },
        "id": "7aSphyWfGe7K",
        "outputId": "783521d5-ec81-4e0a-883a-307c6aa01e96"
      },
      "execution_count": 150,
      "outputs": [
        {
          "output_type": "stream",
          "name": "stdout",
          "text": [
            "Shapes:  (10178, 24) (2565, 24) (765, 24)\n"
          ]
        }
      ]
    },
    {
      "cell_type": "markdown",
      "source": [
        "data/"
      ],
      "metadata": {
        "id": "luZblsN8LypC"
      }
    },
    {
      "cell_type": "code",
      "source": [
        "# list each item of class division variable\n",
        "\n",
        "for item in class_division:\n",
        "  print(item)"
      ],
      "metadata": {
        "colab": {
          "base_uri": "https://localhost:8080/"
        },
        "id": "NvazLPEqENFK",
        "outputId": "aa9bba79-1d7c-4f10-f719-d5c2347fe056"
      },
      "execution_count": 95,
      "outputs": [
        {
          "output_type": "stream",
          "name": "stdout",
          "text": [
            "1762\n",
            "8416\n"
          ]
        }
      ]
    },
    {
      "cell_type": "code",
      "source": [
        "# plot a chart showing unbalance data\n",
        "\n",
        "class_division = [ df[df[0] >= 0.5 ].shape[0], df[df[0] < 0.5 ].shape[0] ]\n",
        "my_labels = ['Minority Class', 'Majority Class']\n",
        "\n",
        "plt.pie(class_division, labels = my_labels)\n",
        "plt.show()"
      ],
      "metadata": {
        "colab": {
          "base_uri": "https://localhost:8080/",
          "height": 406
        },
        "id": "opfVTxfY-nYI",
        "outputId": "70fc12a9-f342-4578-9260-1774068757f0"
      },
      "execution_count": 94,
      "outputs": [
        {
          "output_type": "display_data",
          "data": {
            "text/plain": [
              "<Figure size 640x480 with 1 Axes>"
            ],
            "image/png": "[encoded data removed]"
          },
          "metadata": {}
        }
      ]
    },
    {
      "cell_type": "code",
      "source": [
        "#Oversampling\n",
        "\n",
        "lab = preprocessing.LabelEncoder()\n",
        "y_transformed = lab.fit_transform(y_train)\n",
        "ros = RandomOverSampler(random_state=0)\n",
        "ros.fit(X_train, y_train)\n",
        "X_Oversampled, y_Oversampled = ros.fit_resample(X_train, y_transformed)"
      ],
      "metadata": {
        "id": "w3TRP288ah71"
      },
      "execution_count": 186,
      "outputs": []
    },
    {
      "cell_type": "code",
      "source": [
        "#Undersampling\n",
        "\n",
        "lab = preprocessing.LabelEncoder()\n",
        "y_transformed = lab.fit_transform(y_train)\n",
        "ros = RandomUnderSampler(random_state=0)\n",
        "ros.fit(X_train, y_train)\n",
        "X_Undersampled, y_Undersampled = ros.fit_resample(X_train, y_transformed)"
      ],
      "metadata": {
        "id": "MMhfX07-k2Wn"
      },
      "execution_count": 189,
      "outputs": []
    },
    {
      "cell_type": "code",
      "source": [
        "#GBR result normal\n",
        "# Using r2 score and meand square error metrics instead of classification report because it is a Regressor Problem\n",
        "\n",
        "gbr = GradientBoostingRegressor()\n",
        "gbr.fit(X_train,y_train)\n",
        "test = gbr.predict(X_test)\n",
        "print(\"R2 Score:\", r2_score(y_test,test))\n",
        "print(\"Mean Square Error:\", mean_squared_error(y_test,test))\n"
      ],
      "metadata": {
        "id": "X-o5uyxOpowB"
      },
      "execution_count": null,
      "outputs": []
    },
    {
      "cell_type": "code",
      "source": [
        "# GBR result with Oversampling\n",
        "# Using r2 score and meand square error metrics instead of classification report because it is a Regressor Problem\n",
        "\n",
        "gbr = GradientBoostingRegressor()\n",
        "gbr.fit(X_Oversampled,y_Oversampled)\n",
        "test = gbr.predict(X_test)\n",
        "print(\"R2 Score:\", r2_score(y_test,test))\n",
        "print(\"Mean Square Error:\", mean_squared_error(y_test,test))\n"
      ],
      "metadata": {
        "colab": {
          "base_uri": "https://localhost:8080/"
        },
        "id": "3RuBNl11NvlD",
        "outputId": "265059d7-ce27-4e7c-cd9c-ea7862a97775"
      },
      "execution_count": 188,
      "outputs": [
        {
          "output_type": "stream",
          "name": "stdout",
          "text": [
            "R2 Score: -132.9110474250373\n",
            "Mean Square Error: 182.69943956312216\n"
          ]
        }
      ]
    },
    {
      "cell_type": "code",
      "source": [
        "# GBR result with Undersampling\n",
        "# Using r2 score and meand square error metrics instead of classification report because it is a Regressor Problem\n",
        "\n",
        "gbr = GradientBoostingRegressor()\n",
        "gbr.fit(X_Undersampled,y_Undersampled)\n",
        "test = gbr.predict(X_test)\n",
        "print(\"R2 Score:\", r2_score(y_test,test))\n",
        "print(\"Mean Square Error:\", mean_squared_error(y_test,test))\n"
      ],
      "metadata": {
        "id": "_23aVzzflSpw"
      },
      "execution_count": null,
      "outputs": []
    }
  ]
}